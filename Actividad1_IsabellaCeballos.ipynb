{
  "cells": [
    {
      "cell_type": "markdown",
      "metadata": {
        "id": "view-in-github",
        "colab_type": "text"
      },
      "source": [
        "<a href=\"https://colab.research.google.com/github/isaceballos51/Isabella-Ceballos/blob/master/Actividad1_IsabellaCeballos.ipynb\" target=\"_parent\"><img src=\"https://colab.research.google.com/assets/colab-badge.svg\" alt=\"Open In Colab\"/></a>"
      ]
    },
    {
      "cell_type": "markdown",
      "metadata": {
        "id": "-PsEgRALxAbm"
      },
      "source": [
        "# **B&C Informe Mercado Inmobiliario**\n",
        "\n",
        "# *Isabella Ceballos Sánchez*\n"
      ]
    },
    {
      "cell_type": "markdown",
      "source": [
        "# **Introducción**"
      ],
      "metadata": {
        "id": "gMYYKHnFIW10"
      }
    },
    {
      "cell_type": "markdown",
      "source": [
        "Actualmente, es conocido para las empresas al rededor del mundo que la toma de desiciones con información de valor es un pilar esencial para el crecimiento y éxito de las empresas a corto, mediano y largo plazo.\n",
        "\n",
        "En este sentido, la estadística y sus modelos toman un papel relevante para proporcionar comprensión, gráficos y análisis a partir de datos para desiciones del negocio.\n",
        "\n",
        "El presente informe del mercado inmobiliario de la ciudad de cali con información sacada de la empresa B&C (agencia de bienes raíces de la ciudad de cali) busca proporcionar gráficos e información relevante para la toma de desiciones del negocio en temas como el nicho de mercado, estrategia de marketing, precios de ventas y personalización de servicios para sus clientes.\n",
        "\n",
        "\n",
        "Para este objetivo, inciaremos con un análisis estadístico y descriptivo de la base, se continuará con un procesamiento y limpieza de los datos, para poder así recomendar estrategias de marketing y recomendaciones para la toma de decisiones.\n",
        "\n"
      ],
      "metadata": {
        "id": "Z4HFVrHcIctl"
      }
    },
    {
      "cell_type": "markdown",
      "metadata": {
        "id": "P3-dvmzYxMkp"
      },
      "source": [
        "\n",
        "**1) Importar librerías y lectura de base de datos**"
      ]
    },
    {
      "cell_type": "code",
      "execution_count": 83,
      "metadata": {
        "id": "SayVzSxe8fbX"
      },
      "outputs": [],
      "source": [
        "import numpy as np\n",
        "import pandas as pd\n",
        "import sklearn as sk\n",
        "import seaborn as sns\n",
        "import matplotlib.pyplot as plt\n",
        "import scipy.stats as stats\n",
        "\n",
        "url=\"/vivienda_faltantes.csv\"\n",
        "data = pd.read_csv(url, header=None, na_values=\" ?\")\n",
        "data.columns = ['ID', 'Zona', 'Piso', 'Estrato', 'Precio', 'Area_Cons', 'Parquea',\n",
        "           'Baño', 'Habitacion', 'Tipo', 'Barrio', 'Longitud', 'Latitud']\n",
        "data.drop([0], axis=0, inplace=True)"
      ]
    },
    {
      "cell_type": "code",
      "source": [
        "data"
      ],
      "metadata": {
        "id": "syNwznSTm_I7",
        "outputId": "5156c6bf-8ca9-4160-92d5-3a8f7c23d48c",
        "colab": {
          "base_uri": "https://localhost:8080/",
          "height": 424
        }
      },
      "execution_count": 84,
      "outputs": [
        {
          "output_type": "execute_result",
          "data": {
            "text/plain": [
              "        ID        Zona Piso Estrato Precio Area_Cons Parquea Baño Habitacion  \\\n",
              "1     8312  Zona Oeste    4       6   1300       318       2    4          2   \n",
              "2     8311  Zona Oeste    1       6    480       300       1    4          4   \n",
              "3     8307  Zona Oeste  NaN       5   1200       800       4    7          5   \n",
              "4     8296    Zona Sur    2       3    220       150       1    2          4   \n",
              "5     8297  Zona Oeste  NaN       5    330       112       2    4          3   \n",
              "...    ...         ...  ...     ...    ...       ...     ...  ...        ...   \n",
              "8326  8314  Zona Oeste    7       6   1400       210       3    4          3   \n",
              "8327  8315  Zona Oeste  NaN       6    620       167       2    4          4   \n",
              "8328  8316  Zona Norte    7       5    400       220       1    4          4   \n",
              "8329  8317  Zona Oeste  NaN       6   1100       290       4    4          3   \n",
              "8330  8318  Zona Norte  NaN       4    580       295       2    5          5   \n",
              "\n",
              "             Tipo            Barrio   Longitud  Latitud  \n",
              "1     Apartamento          arboleda     -76576     3454  \n",
              "2            Casa         normandía     -76571     3454  \n",
              "3            Casa        miraflores     -76568     3455  \n",
              "4            Casa         el guabal     -76565     3417  \n",
              "5            Casa  bella suiza alta     -76565     3408  \n",
              "...           ...               ...        ...      ...  \n",
              "8326  Apartamento         normandía  -76.57941  3.45531  \n",
              "8327  Apartamento         normandía   -76.5853  3.45971  \n",
              "8328  Apartamento           granada  -76.58732  3.46148  \n",
              "8329  Apartamento         normandía  -76.58744  3.46124  \n",
              "8330         Casa          la flora  -76.58876  3.46348  \n",
              "\n",
              "[8330 rows x 13 columns]"
            ],
            "text/html": [
              "\n",
              "\n",
              "  <div id=\"df-7e94b8b0-dd30-4893-b0f2-6f2d007866f6\">\n",
              "    <div class=\"colab-df-container\">\n",
              "      <div>\n",
              "<style scoped>\n",
              "    .dataframe tbody tr th:only-of-type {\n",
              "        vertical-align: middle;\n",
              "    }\n",
              "\n",
              "    .dataframe tbody tr th {\n",
              "        vertical-align: top;\n",
              "    }\n",
              "\n",
              "    .dataframe thead th {\n",
              "        text-align: right;\n",
              "    }\n",
              "</style>\n",
              "<table border=\"1\" class=\"dataframe\">\n",
              "  <thead>\n",
              "    <tr style=\"text-align: right;\">\n",
              "      <th></th>\n",
              "      <th>ID</th>\n",
              "      <th>Zona</th>\n",
              "      <th>Piso</th>\n",
              "      <th>Estrato</th>\n",
              "      <th>Precio</th>\n",
              "      <th>Area_Cons</th>\n",
              "      <th>Parquea</th>\n",
              "      <th>Baño</th>\n",
              "      <th>Habitacion</th>\n",
              "      <th>Tipo</th>\n",
              "      <th>Barrio</th>\n",
              "      <th>Longitud</th>\n",
              "      <th>Latitud</th>\n",
              "    </tr>\n",
              "  </thead>\n",
              "  <tbody>\n",
              "    <tr>\n",
              "      <th>1</th>\n",
              "      <td>8312</td>\n",
              "      <td>Zona Oeste</td>\n",
              "      <td>4</td>\n",
              "      <td>6</td>\n",
              "      <td>1300</td>\n",
              "      <td>318</td>\n",
              "      <td>2</td>\n",
              "      <td>4</td>\n",
              "      <td>2</td>\n",
              "      <td>Apartamento</td>\n",
              "      <td>arboleda</td>\n",
              "      <td>-76576</td>\n",
              "      <td>3454</td>\n",
              "    </tr>\n",
              "    <tr>\n",
              "      <th>2</th>\n",
              "      <td>8311</td>\n",
              "      <td>Zona Oeste</td>\n",
              "      <td>1</td>\n",
              "      <td>6</td>\n",
              "      <td>480</td>\n",
              "      <td>300</td>\n",
              "      <td>1</td>\n",
              "      <td>4</td>\n",
              "      <td>4</td>\n",
              "      <td>Casa</td>\n",
              "      <td>normandía</td>\n",
              "      <td>-76571</td>\n",
              "      <td>3454</td>\n",
              "    </tr>\n",
              "    <tr>\n",
              "      <th>3</th>\n",
              "      <td>8307</td>\n",
              "      <td>Zona Oeste</td>\n",
              "      <td>NaN</td>\n",
              "      <td>5</td>\n",
              "      <td>1200</td>\n",
              "      <td>800</td>\n",
              "      <td>4</td>\n",
              "      <td>7</td>\n",
              "      <td>5</td>\n",
              "      <td>Casa</td>\n",
              "      <td>miraflores</td>\n",
              "      <td>-76568</td>\n",
              "      <td>3455</td>\n",
              "    </tr>\n",
              "    <tr>\n",
              "      <th>4</th>\n",
              "      <td>8296</td>\n",
              "      <td>Zona Sur</td>\n",
              "      <td>2</td>\n",
              "      <td>3</td>\n",
              "      <td>220</td>\n",
              "      <td>150</td>\n",
              "      <td>1</td>\n",
              "      <td>2</td>\n",
              "      <td>4</td>\n",
              "      <td>Casa</td>\n",
              "      <td>el guabal</td>\n",
              "      <td>-76565</td>\n",
              "      <td>3417</td>\n",
              "    </tr>\n",
              "    <tr>\n",
              "      <th>5</th>\n",
              "      <td>8297</td>\n",
              "      <td>Zona Oeste</td>\n",
              "      <td>NaN</td>\n",
              "      <td>5</td>\n",
              "      <td>330</td>\n",
              "      <td>112</td>\n",
              "      <td>2</td>\n",
              "      <td>4</td>\n",
              "      <td>3</td>\n",
              "      <td>Casa</td>\n",
              "      <td>bella suiza alta</td>\n",
              "      <td>-76565</td>\n",
              "      <td>3408</td>\n",
              "    </tr>\n",
              "    <tr>\n",
              "      <th>...</th>\n",
              "      <td>...</td>\n",
              "      <td>...</td>\n",
              "      <td>...</td>\n",
              "      <td>...</td>\n",
              "      <td>...</td>\n",
              "      <td>...</td>\n",
              "      <td>...</td>\n",
              "      <td>...</td>\n",
              "      <td>...</td>\n",
              "      <td>...</td>\n",
              "      <td>...</td>\n",
              "      <td>...</td>\n",
              "      <td>...</td>\n",
              "    </tr>\n",
              "    <tr>\n",
              "      <th>8326</th>\n",
              "      <td>8314</td>\n",
              "      <td>Zona Oeste</td>\n",
              "      <td>7</td>\n",
              "      <td>6</td>\n",
              "      <td>1400</td>\n",
              "      <td>210</td>\n",
              "      <td>3</td>\n",
              "      <td>4</td>\n",
              "      <td>3</td>\n",
              "      <td>Apartamento</td>\n",
              "      <td>normandía</td>\n",
              "      <td>-76.57941</td>\n",
              "      <td>3.45531</td>\n",
              "    </tr>\n",
              "    <tr>\n",
              "      <th>8327</th>\n",
              "      <td>8315</td>\n",
              "      <td>Zona Oeste</td>\n",
              "      <td>NaN</td>\n",
              "      <td>6</td>\n",
              "      <td>620</td>\n",
              "      <td>167</td>\n",
              "      <td>2</td>\n",
              "      <td>4</td>\n",
              "      <td>4</td>\n",
              "      <td>Apartamento</td>\n",
              "      <td>normandía</td>\n",
              "      <td>-76.5853</td>\n",
              "      <td>3.45971</td>\n",
              "    </tr>\n",
              "    <tr>\n",
              "      <th>8328</th>\n",
              "      <td>8316</td>\n",
              "      <td>Zona Norte</td>\n",
              "      <td>7</td>\n",
              "      <td>5</td>\n",
              "      <td>400</td>\n",
              "      <td>220</td>\n",
              "      <td>1</td>\n",
              "      <td>4</td>\n",
              "      <td>4</td>\n",
              "      <td>Apartamento</td>\n",
              "      <td>granada</td>\n",
              "      <td>-76.58732</td>\n",
              "      <td>3.46148</td>\n",
              "    </tr>\n",
              "    <tr>\n",
              "      <th>8329</th>\n",
              "      <td>8317</td>\n",
              "      <td>Zona Oeste</td>\n",
              "      <td>NaN</td>\n",
              "      <td>6</td>\n",
              "      <td>1100</td>\n",
              "      <td>290</td>\n",
              "      <td>4</td>\n",
              "      <td>4</td>\n",
              "      <td>3</td>\n",
              "      <td>Apartamento</td>\n",
              "      <td>normandía</td>\n",
              "      <td>-76.58744</td>\n",
              "      <td>3.46124</td>\n",
              "    </tr>\n",
              "    <tr>\n",
              "      <th>8330</th>\n",
              "      <td>8318</td>\n",
              "      <td>Zona Norte</td>\n",
              "      <td>NaN</td>\n",
              "      <td>4</td>\n",
              "      <td>580</td>\n",
              "      <td>295</td>\n",
              "      <td>2</td>\n",
              "      <td>5</td>\n",
              "      <td>5</td>\n",
              "      <td>Casa</td>\n",
              "      <td>la flora</td>\n",
              "      <td>-76.58876</td>\n",
              "      <td>3.46348</td>\n",
              "    </tr>\n",
              "  </tbody>\n",
              "</table>\n",
              "<p>8330 rows × 13 columns</p>\n",
              "</div>\n",
              "      <button class=\"colab-df-convert\" onclick=\"convertToInteractive('df-7e94b8b0-dd30-4893-b0f2-6f2d007866f6')\"\n",
              "              title=\"Convert this dataframe to an interactive table.\"\n",
              "              style=\"display:none;\">\n",
              "\n",
              "  <svg xmlns=\"http://www.w3.org/2000/svg\" height=\"24px\"viewBox=\"0 0 24 24\"\n",
              "       width=\"24px\">\n",
              "    <path d=\"M0 0h24v24H0V0z\" fill=\"none\"/>\n",
              "    <path d=\"M18.56 5.44l.94 2.06.94-2.06 2.06-.94-2.06-.94-.94-2.06-.94 2.06-2.06.94zm-11 1L8.5 8.5l.94-2.06 2.06-.94-2.06-.94L8.5 2.5l-.94 2.06-2.06.94zm10 10l.94 2.06.94-2.06 2.06-.94-2.06-.94-.94-2.06-.94 2.06-2.06.94z\"/><path d=\"M17.41 7.96l-1.37-1.37c-.4-.4-.92-.59-1.43-.59-.52 0-1.04.2-1.43.59L10.3 9.45l-7.72 7.72c-.78.78-.78 2.05 0 2.83L4 21.41c.39.39.9.59 1.41.59.51 0 1.02-.2 1.41-.59l7.78-7.78 2.81-2.81c.8-.78.8-2.07 0-2.86zM5.41 20L4 18.59l7.72-7.72 1.47 1.35L5.41 20z\"/>\n",
              "  </svg>\n",
              "      </button>\n",
              "\n",
              "\n",
              "\n",
              "    <div id=\"df-4aa25203-3595-4025-add6-bb7d0d4a09c9\">\n",
              "      <button class=\"colab-df-quickchart\" onclick=\"quickchart('df-4aa25203-3595-4025-add6-bb7d0d4a09c9')\"\n",
              "              title=\"Suggest charts.\"\n",
              "              style=\"display:none;\">\n",
              "\n",
              "<svg xmlns=\"http://www.w3.org/2000/svg\" height=\"24px\"viewBox=\"0 0 24 24\"\n",
              "     width=\"24px\">\n",
              "    <g>\n",
              "        <path d=\"M19 3H5c-1.1 0-2 .9-2 2v14c0 1.1.9 2 2 2h14c1.1 0 2-.9 2-2V5c0-1.1-.9-2-2-2zM9 17H7v-7h2v7zm4 0h-2V7h2v10zm4 0h-2v-4h2v4z\"/>\n",
              "    </g>\n",
              "</svg>\n",
              "      </button>\n",
              "    </div>\n",
              "\n",
              "<style>\n",
              "  .colab-df-quickchart {\n",
              "    background-color: #E8F0FE;\n",
              "    border: none;\n",
              "    border-radius: 50%;\n",
              "    cursor: pointer;\n",
              "    display: none;\n",
              "    fill: #1967D2;\n",
              "    height: 32px;\n",
              "    padding: 0 0 0 0;\n",
              "    width: 32px;\n",
              "  }\n",
              "\n",
              "  .colab-df-quickchart:hover {\n",
              "    background-color: #E2EBFA;\n",
              "    box-shadow: 0px 1px 2px rgba(60, 64, 67, 0.3), 0px 1px 3px 1px rgba(60, 64, 67, 0.15);\n",
              "    fill: #174EA6;\n",
              "  }\n",
              "\n",
              "  [theme=dark] .colab-df-quickchart {\n",
              "    background-color: #3B4455;\n",
              "    fill: #D2E3FC;\n",
              "  }\n",
              "\n",
              "  [theme=dark] .colab-df-quickchart:hover {\n",
              "    background-color: #434B5C;\n",
              "    box-shadow: 0px 1px 3px 1px rgba(0, 0, 0, 0.15);\n",
              "    filter: drop-shadow(0px 1px 2px rgba(0, 0, 0, 0.3));\n",
              "    fill: #FFFFFF;\n",
              "  }\n",
              "</style>\n",
              "\n",
              "    <script>\n",
              "      async function quickchart(key) {\n",
              "        const containerElement = document.querySelector('#' + key);\n",
              "        const charts = await google.colab.kernel.invokeFunction(\n",
              "            'suggestCharts', [key], {});\n",
              "      }\n",
              "    </script>\n",
              "\n",
              "      <script>\n",
              "\n",
              "function displayQuickchartButton(domScope) {\n",
              "  let quickchartButtonEl =\n",
              "    domScope.querySelector('#df-4aa25203-3595-4025-add6-bb7d0d4a09c9 button.colab-df-quickchart');\n",
              "  quickchartButtonEl.style.display =\n",
              "    google.colab.kernel.accessAllowed ? 'block' : 'none';\n",
              "}\n",
              "\n",
              "        displayQuickchartButton(document);\n",
              "      </script>\n",
              "      <style>\n",
              "    .colab-df-container {\n",
              "      display:flex;\n",
              "      flex-wrap:wrap;\n",
              "      gap: 12px;\n",
              "    }\n",
              "\n",
              "    .colab-df-convert {\n",
              "      background-color: #E8F0FE;\n",
              "      border: none;\n",
              "      border-radius: 50%;\n",
              "      cursor: pointer;\n",
              "      display: none;\n",
              "      fill: #1967D2;\n",
              "      height: 32px;\n",
              "      padding: 0 0 0 0;\n",
              "      width: 32px;\n",
              "    }\n",
              "\n",
              "    .colab-df-convert:hover {\n",
              "      background-color: #E2EBFA;\n",
              "      box-shadow: 0px 1px 2px rgba(60, 64, 67, 0.3), 0px 1px 3px 1px rgba(60, 64, 67, 0.15);\n",
              "      fill: #174EA6;\n",
              "    }\n",
              "\n",
              "    [theme=dark] .colab-df-convert {\n",
              "      background-color: #3B4455;\n",
              "      fill: #D2E3FC;\n",
              "    }\n",
              "\n",
              "    [theme=dark] .colab-df-convert:hover {\n",
              "      background-color: #434B5C;\n",
              "      box-shadow: 0px 1px 3px 1px rgba(0, 0, 0, 0.15);\n",
              "      filter: drop-shadow(0px 1px 2px rgba(0, 0, 0, 0.3));\n",
              "      fill: #FFFFFF;\n",
              "    }\n",
              "  </style>\n",
              "\n",
              "      <script>\n",
              "        const buttonEl =\n",
              "          document.querySelector('#df-7e94b8b0-dd30-4893-b0f2-6f2d007866f6 button.colab-df-convert');\n",
              "        buttonEl.style.display =\n",
              "          google.colab.kernel.accessAllowed ? 'block' : 'none';\n",
              "\n",
              "        async function convertToInteractive(key) {\n",
              "          const element = document.querySelector('#df-7e94b8b0-dd30-4893-b0f2-6f2d007866f6');\n",
              "          const dataTable =\n",
              "            await google.colab.kernel.invokeFunction('convertToInteractive',\n",
              "                                                     [key], {});\n",
              "          if (!dataTable) return;\n",
              "\n",
              "          const docLinkHtml = 'Like what you see? Visit the ' +\n",
              "            '<a target=\"_blank\" href=https://colab.research.google.com/notebooks/data_table.ipynb>data table notebook</a>'\n",
              "            + ' to learn more about interactive tables.';\n",
              "          element.innerHTML = '';\n",
              "          dataTable['output_type'] = 'display_data';\n",
              "          await google.colab.output.renderOutput(dataTable, element);\n",
              "          const docLink = document.createElement('div');\n",
              "          docLink.innerHTML = docLinkHtml;\n",
              "          element.appendChild(docLink);\n",
              "        }\n",
              "      </script>\n",
              "    </div>\n",
              "  </div>\n"
            ]
          },
          "metadata": {},
          "execution_count": 84
        }
      ]
    },
    {
      "cell_type": "markdown",
      "source": [
        "De la base, se deduce que contamos con 8330 registros y 13 atributos."
      ],
      "metadata": {
        "id": "GiRjo-M6IUUN"
      }
    },
    {
      "cell_type": "code",
      "source": [
        "data.dtypes"
      ],
      "metadata": {
        "colab": {
          "base_uri": "https://localhost:8080/"
        },
        "id": "2IGp_J7eJPfo",
        "outputId": "ab0e5c94-712f-4d80-c77b-d34c1279f410"
      },
      "execution_count": 85,
      "outputs": [
        {
          "output_type": "execute_result",
          "data": {
            "text/plain": [
              "ID            object\n",
              "Zona          object\n",
              "Piso          object\n",
              "Estrato       object\n",
              "Precio        object\n",
              "Area_Cons     object\n",
              "Parquea       object\n",
              "Baño          object\n",
              "Habitacion    object\n",
              "Tipo          object\n",
              "Barrio        object\n",
              "Longitud      object\n",
              "Latitud       object\n",
              "dtype: object"
            ]
          },
          "metadata": {},
          "execution_count": 85
        }
      ]
    },
    {
      "cell_type": "markdown",
      "source": [
        "Como podemos analizar, el código nos arroja que todos los 13 atributos con los que contamos son tipo **categóricos**, pero al haber visualizado previamente la data, conocemos que sólo los atributos **Zona, barrio y tipo** deberían de considerarse **categóricos**.\n",
        "\n",
        "\n",
        "Este fenómeno se presenta por los datos NaN que dichos atributos numéricos presentan."
      ],
      "metadata": {
        "id": "K2r2_HyAJld8"
      }
    },
    {
      "cell_type": "markdown",
      "metadata": {
        "id": "0glI5K6I5B3b"
      },
      "source": [
        "**2) Validar datos NaN o Nulls**"
      ]
    },
    {
      "cell_type": "markdown",
      "metadata": {
        "id": "9bt1dWzz9CMl"
      },
      "source": [
        "2.1 Cantidad de Null o NaN por atributos"
      ]
    },
    {
      "cell_type": "code",
      "execution_count": 86,
      "metadata": {
        "colab": {
          "base_uri": "https://localhost:8080/"
        },
        "id": "DnE9fZx79GAP",
        "outputId": "118ba564-bda1-45a6-a10a-918a8959a576"
      },
      "outputs": [
        {
          "output_type": "execute_result",
          "data": {
            "text/plain": [
              "ID               3\n",
              "Zona             3\n",
              "Piso          2641\n",
              "Estrato          3\n",
              "Precio           2\n",
              "Area_Cons        3\n",
              "Parquea       1606\n",
              "Baño             3\n",
              "Habitacion       3\n",
              "Tipo             3\n",
              "Barrio           3\n",
              "Longitud         3\n",
              "Latitud          3\n",
              "dtype: int64"
            ]
          },
          "metadata": {},
          "execution_count": 86
        }
      ],
      "source": [
        "data.isnull().sum()"
      ]
    },
    {
      "cell_type": "code",
      "execution_count": 87,
      "metadata": {
        "colab": {
          "base_uri": "https://localhost:8080/"
        },
        "id": "XyJiZE1x9Luk",
        "outputId": "4ec64363-4701-4da4-8a64-6ad101c6ab97"
      },
      "outputs": [
        {
          "output_type": "execute_result",
          "data": {
            "text/plain": [
              "ID             0.036014\n",
              "Zona           0.036014\n",
              "Piso          31.704682\n",
              "Estrato        0.036014\n",
              "Precio         0.024010\n",
              "Area_Cons      0.036014\n",
              "Parquea       19.279712\n",
              "Baño           0.036014\n",
              "Habitacion     0.036014\n",
              "Tipo           0.036014\n",
              "Barrio         0.036014\n",
              "Longitud       0.036014\n",
              "Latitud        0.036014\n",
              "dtype: float64"
            ]
          },
          "metadata": {},
          "execution_count": 87
        }
      ],
      "source": [
        "(data.isnull().sum()/len(data))*100"
      ]
    },
    {
      "cell_type": "markdown",
      "metadata": {
        "id": "9onlhgOo9HuN"
      },
      "source": [
        "Como se logra ver, los atributos que más datos faltantes presentan son **Piso y Parqueadero**, con un porcentaje deñ 31 % y 19 % respectivamente.\n",
        "\n",
        "Pero antes de tomar la decisión de eliminar el atributo, debe de evaluarse la importancia del tipo de información que brinda y cómo esta influye en el precio de venta de la vivienda.\n",
        "\n",
        "En el caso de piso, si es un **apartamento** es de gran influencia, dado que entre más alto el piso, mejor es la visión panorámica del paisaje que se le ofrece al comprador, del mismo modo, si es una **casa** al tener más pisos, eso implica una mayor área de construcción, haciendo que su valor incremente significativamente.\n",
        "\n",
        "Por otro lado, con respecto a los parqueaderos también se presenta este fenómeno, es decir, se espera que al brindar una vivienda con gran disponibilidad de parqueaderos, su valor incremente ya que también tiene mayor área de disposición."
      ]
    },
    {
      "cell_type": "markdown",
      "source": [
        "Por tal razón, por ahora no se optará a eliminar estos atributos, si no a proceder a evaluar la cantidad de nulos por registros."
      ],
      "metadata": {
        "id": "qogV8VyyNx4P"
      }
    },
    {
      "cell_type": "markdown",
      "metadata": {
        "id": "VZE7w68T9Pi_"
      },
      "source": [
        "2.2 Cantidad Null o NaN por registros"
      ]
    },
    {
      "cell_type": "code",
      "execution_count": 88,
      "metadata": {
        "colab": {
          "base_uri": "https://localhost:8080/"
        },
        "id": "29qgiGqr9TpJ",
        "outputId": "527fe53b-e540-47fc-d533-01d9415ee73e"
      },
      "outputs": [
        {
          "output_type": "stream",
          "name": "stdout",
          "text": [
            "Cantidad máxima faltante por registros: 13\n"
          ]
        }
      ],
      "source": [
        "print('Cantidad máxima faltante por registros:',max(data.isnull().sum(axis=1)))"
      ]
    },
    {
      "cell_type": "markdown",
      "source": [
        "Este es una gran alerta, debido a que significa que contamos con registros donde en su totalidad sus valores son NaN. Lo que quiere decir que se puede considerar un dato tipo **basura**\n",
        "\n",
        "A partir de la cantidad de Nulos por atributos, se deduce que estos registros que presentan NaN en su totalidad son **3**."
      ],
      "metadata": {
        "id": "arHZ4EJtOHJV"
      }
    },
    {
      "cell_type": "code",
      "source": [
        "faltantes = data [(data.ID.isnull()) ]\n",
        "print(faltantes)"
      ],
      "metadata": {
        "colab": {
          "base_uri": "https://localhost:8080/"
        },
        "id": "54eV-ZesOlsZ",
        "outputId": "a8863759-a5e0-4cf3-ebe5-d22302170633"
      },
      "execution_count": 89,
      "outputs": [
        {
          "output_type": "stream",
          "name": "stdout",
          "text": [
            "       ID Zona Piso Estrato Precio Area_Cons Parquea Baño Habitacion Tipo  \\\n",
            "8320  NaN  NaN  NaN     NaN    NaN       NaN     NaN  NaN        NaN  NaN   \n",
            "8321  NaN  NaN  NaN     NaN    NaN       NaN     NaN  NaN        NaN  NaN   \n",
            "8322  NaN  NaN  NaN     NaN    330       NaN     NaN  NaN        NaN  NaN   \n",
            "\n",
            "     Barrio Longitud Latitud  \n",
            "8320    NaN      NaN     NaN  \n",
            "8321    NaN      NaN     NaN  \n",
            "8322    NaN      NaN     NaN  \n"
          ]
        }
      ]
    },
    {
      "cell_type": "markdown",
      "source": [
        "Al ser 3 registros completamente nulos, se procederá a eliminarlos."
      ],
      "metadata": {
        "id": "-CeIgm50Pg_W"
      }
    },
    {
      "cell_type": "code",
      "source": [
        "data.drop([8320,8321,8322], axis=0, inplace=True)"
      ],
      "metadata": {
        "id": "vOqGl3cWPpij"
      },
      "execution_count": 90,
      "outputs": []
    },
    {
      "cell_type": "code",
      "execution_count": 91,
      "metadata": {
        "colab": {
          "base_uri": "https://localhost:8080/"
        },
        "id": "EoiRz0SN9WeC",
        "outputId": "2092229a-5553-429f-9962-d468838a6d07"
      },
      "outputs": [
        {
          "output_type": "stream",
          "name": "stdout",
          "text": [
            " Cantidad de registros con datos faltantes : 3515\n",
            "Porcentaje 42.21 %\n"
          ]
        },
        {
          "output_type": "stream",
          "name": "stderr",
          "text": [
            "<ipython-input-91-b240efb821a4>:1: FutureWarning: In a future version of pandas all arguments of DataFrame.any and Series.any will be keyword-only.\n",
            "  print(' Cantidad de registros con datos faltantes :',len(data[data.isnull().any(1)]))\n",
            "<ipython-input-91-b240efb821a4>:2: FutureWarning: In a future version of pandas all arguments of DataFrame.any and Series.any will be keyword-only.\n",
            "  print('Porcentaje',round((len(data[data.isnull().any(1)])/ len(data))*100,2),'%')\n"
          ]
        }
      ],
      "source": [
        "print(' Cantidad de registros con datos faltantes :',len(data[data.isnull().any(1)]))\n",
        "print('Porcentaje',round((len(data[data.isnull().any(1)])/ len(data))*100,2),'%')"
      ]
    },
    {
      "cell_type": "markdown",
      "source": [
        "Al ejecutar la cantidad de registros que presentan información faltante, obtenemos que más del 40% de la data tiene al menos un atributo en NaN, ya sea **Piso o parqueadero, o incluso ambos**.\n",
        "\n",
        "Entonces, como se concluyó que ambos atributos generan valor en cuanto al precio de la vivienda. Procederemos a modificar ese valor Nan que presentamos.\n",
        "\n",
        "Cuando uno desea hacer una modificación, lo más común es llenarlo con la media del atributo, o con ceros. En este caso, no tiene coherencia que el piso tenga un valor de cero, pero por el otro lado, es posible que una vivienda no cuente con parqueadero.\n"
      ],
      "metadata": {
        "id": "kqsVRXD3QQzD"
      }
    },
    {
      "cell_type": "code",
      "source": [
        "data = data.fillna('')\n",
        "\n",
        "numericos = ['ID', 'Piso', 'Estrato', 'Precio', 'Area_Cons', 'Parquea',\n",
        "           'Baño', 'Habitacion', 'Longitud', 'Latitud']\n",
        "\n",
        "for i in numericos:\n",
        "  data[i] = pd.to_numeric(data[i], errors='coerce').fillna(0).apply(np.int64)"
      ],
      "metadata": {
        "id": "DL0K_DdMT6vg"
      },
      "execution_count": 93,
      "outputs": []
    },
    {
      "cell_type": "code",
      "source": [
        "data['Piso'] = data['Piso'].replace(0,data['Piso'].mean())\n",
        "data['Parquea'] = data['Parquea'].replace(0,data['Parquea'].mean())"
      ],
      "metadata": {
        "id": "FDxuGBtXavVj"
      },
      "execution_count": 114,
      "outputs": []
    },
    {
      "cell_type": "code",
      "source": [
        "data.dtypes"
      ],
      "metadata": {
        "colab": {
          "base_uri": "https://localhost:8080/"
        },
        "id": "q1fOPt1TY7tX",
        "outputId": "9fab0b3b-dfb7-415f-bbfb-7ad0d99643df"
      },
      "execution_count": 115,
      "outputs": [
        {
          "output_type": "execute_result",
          "data": {
            "text/plain": [
              "ID              int64\n",
              "Zona           object\n",
              "Piso          float64\n",
              "Estrato         int64\n",
              "Precio          int64\n",
              "Area_Cons       int64\n",
              "Parquea       float64\n",
              "Baño            int64\n",
              "Habitacion      int64\n",
              "Tipo           object\n",
              "Barrio         object\n",
              "Longitud        int64\n",
              "Latitud         int64\n",
              "dtype: object"
            ]
          },
          "metadata": {},
          "execution_count": 115
        }
      ]
    },
    {
      "cell_type": "markdown",
      "metadata": {
        "id": "Jdou3phD8wUl"
      },
      "source": [
        "De aquí, se puede concluir que ningún atributo tiene relación con otro, por ende, no se puede borrar algún atributo"
      ]
    },
    {
      "cell_type": "code",
      "execution_count": 116,
      "metadata": {
        "colab": {
          "base_uri": "https://localhost:8080/",
          "height": 1000
        },
        "id": "8G2ksPrX9k_S",
        "outputId": "5b5e5a20-2baa-47a1-beb2-86c9505f86db"
      },
      "outputs": [
        {
          "output_type": "display_data",
          "data": {
            "text/plain": [
              "<Figure size 1500x3000 with 10 Axes>"
            ],
            "image/png": "[encoded data removed]"
          },
          "metadata": {}
        }
      ],
      "source": [
        "#Diagrama de cajas y bigotes para atributos numéricos\n",
        "fig, axes = plt.subplots(5,2,figsize=(15,30))\n",
        "y = 0\n",
        "\n",
        "for i in numericos:\n",
        "    a = data.boxplot(i,ax=axes.flatten()[y])\n",
        "    y += 1\n",
        "plt.show()"
      ]
    },
    {
      "cell_type": "markdown",
      "source": [
        "De estos diagramas de cajas, se puede apreciar que la mayoría de atributos tienen presentan una gran dispersión en sus datos, más esto no quiere decir que se puedan considerar datos atípicos. Ya que eso depende de la naturaleza del atributo y del tipo de valor que nos encontramos analizando."
      ],
      "metadata": {
        "id": "A96ZMbxNeIEl"
      }
    },
    {
      "cell_type": "markdown",
      "metadata": {
        "id": "8woHYGc948c8"
      },
      "source": [
        "**3) Analizar variables categóricas**"
      ]
    },
    {
      "cell_type": "code",
      "source": [
        "data.Tipo.value_counts()"
      ],
      "metadata": {
        "colab": {
          "base_uri": "https://localhost:8080/"
        },
        "id": "O4CM_gSuXHIf",
        "outputId": "748a264d-3409-422f-9ce4-bd50ca9e953b"
      },
      "execution_count": 94,
      "outputs": [
        {
          "output_type": "execute_result",
          "data": {
            "text/plain": [
              "Apartamento    5032\n",
              "Casa           3195\n",
              "APARTAMENTO      61\n",
              "casa             14\n",
              "apto             13\n",
              "CASA             12\n",
              "Name: Tipo, dtype: int64"
            ]
          },
          "metadata": {},
          "execution_count": 94
        }
      ]
    },
    {
      "cell_type": "markdown",
      "source": [
        "De aquí podemos deducir que la misma información se encuentra representada en diferentes formas de escritura.\n"
      ],
      "metadata": {
        "id": "moixMvuxWSOU"
      }
    },
    {
      "cell_type": "code",
      "source": [
        "data[\"Tipo\"]=data[\"Tipo\"].apply(lambda x: str(x).replace('APARTAMENTO','Apartamento'))\n",
        "data[\"Tipo\"]=data[\"Tipo\"].apply(lambda x: str(x).replace('CASA','Casa'))\n",
        "data[\"Tipo\"]=data[\"Tipo\"].apply(lambda x: str(x).replace('apto','Apartamento'))\n",
        "data[\"Tipo\"]=data[\"Tipo\"].apply(lambda x: str(x).replace('casa','Casa'))"
      ],
      "metadata": {
        "id": "vQfaX8pSWgct"
      },
      "execution_count": 95,
      "outputs": []
    },
    {
      "cell_type": "code",
      "source": [
        "tipo = data.Tipo.value_counts()\n",
        "\n",
        "sns.set_style(\"darkgrid\")\n",
        "plt.figure(figsize=(10,4))\n",
        "sns.barplot(x=tipo.index, y=tipo.values)\n",
        "plt.show()"
      ],
      "metadata": {
        "colab": {
          "base_uri": "https://localhost:8080/",
          "height": 368
        },
        "id": "jPQCfqUMWGEb",
        "outputId": "00d0afe9-2c2a-447c-9191-8c042acc59d0"
      },
      "execution_count": 96,
      "outputs": [
        {
          "output_type": "display_data",
          "data": {
            "text/plain": [
              "<Figure size 1000x400 with 1 Axes>"
            ],
            "image/png": "[encoded data removed]"
          },
          "metadata": {}
        }
      ]
    },
    {
      "cell_type": "code",
      "source": [
        "data.Tipo.value_counts()/len(data) *100"
      ],
      "metadata": {
        "colab": {
          "base_uri": "https://localhost:8080/"
        },
        "id": "ic651H1jae2J",
        "outputId": "4f692a6d-3476-4b38-b5dd-0715cdcf8199"
      },
      "execution_count": 100,
      "outputs": [
        {
          "output_type": "execute_result",
          "data": {
            "text/plain": [
              "Apartamento    61.318602\n",
              "Casa           38.681398\n",
              "Name: Tipo, dtype: float64"
            ]
          },
          "metadata": {},
          "execution_count": 100
        }
      ]
    },
    {
      "cell_type": "markdown",
      "source": [
        "En este caso, se puede recomendar que en el mercado hay un gran potencial de ventas enfocadas a viviendas tipo **apartamento**."
      ],
      "metadata": {
        "id": "5ovp7w8QZxIV"
      }
    },
    {
      "cell_type": "code",
      "source": [
        "Barrio = data.Barrio.value_counts()\n",
        "\n",
        "sns.set_style(\"darkgrid\")\n",
        "plt.figure(figsize=(10,4))\n",
        "sns.barplot(x=Barrio.index, y=Barrio.values)\n",
        "plt.show()"
      ],
      "metadata": {
        "colab": {
          "base_uri": "https://localhost:8080/",
          "height": 369
        },
        "id": "YmpxjOTtbLe-",
        "outputId": "4be6afb1-49d9-4916-cce3-e83fce29bf71"
      },
      "execution_count": 104,
      "outputs": [
        {
          "output_type": "display_data",
          "data": {
            "text/plain": [
              "<Figure size 1000x400 with 1 Axes>"
            ],
            "image/png": "[encoded data removed]"
          },
          "metadata": {}
        }
      ]
    },
    {
      "cell_type": "code",
      "source": [
        "Zona = data.Zona.value_counts()\n",
        "\n",
        "sns.set_style(\"darkgrid\")\n",
        "plt.figure(figsize=(10,4))\n",
        "sns.barplot(x=Zona.index, y=Zona.values)\n",
        "plt.show()"
      ],
      "metadata": {
        "colab": {
          "base_uri": "https://localhost:8080/",
          "height": 368
        },
        "id": "9NlsqwR8bj7W",
        "outputId": "987b41a4-f71d-4747-da13-58d0b321fe35"
      },
      "execution_count": 105,
      "outputs": [
        {
          "output_type": "display_data",
          "data": {
            "text/plain": [
              "<Figure size 1000x400 with 1 Axes>"
            ],
            "image/png": "[encoded data removed]"
          },
          "metadata": {}
        }
      ]
    },
    {
      "cell_type": "code",
      "source": [
        "data.Zona.value_counts()/len(data) *100"
      ],
      "metadata": {
        "colab": {
          "base_uri": "https://localhost:8080/"
        },
        "id": "L_9BhuDUbxPm",
        "outputId": "924f4f5b-b407-4832-d0d2-8b8535a83b0d"
      },
      "execution_count": 106,
      "outputs": [
        {
          "output_type": "execute_result",
          "data": {
            "text/plain": [
              "Zona Sur        56.755134\n",
              "Zona Norte      23.081542\n",
              "Zona Oeste      14.458989\n",
              "Zona Oriente     4.215204\n",
              "Zona Centro      1.489132\n",
              "Name: Zona, dtype: float64"
            ]
          },
          "metadata": {},
          "execution_count": 106
        }
      ]
    },
    {
      "cell_type": "markdown",
      "source": [
        "De esta gráfica, se deduce que más de la mitad de las ventas o viviendas son ubicadas en la **zona sur** de Cali, lo que puede implicar que es una zona con gran oferta de venta de viviendas. En este caso, ya tocaría a analizar en profundidad si los motivos de que en esta zona hayn tantas viviendas a la venta, es por un motivo positivo o negativo."
      ],
      "metadata": {
        "id": "mI4Db88LbtiI"
      }
    },
    {
      "cell_type": "code",
      "source": [
        "Estrato = data.Estrato.value_counts()\n",
        "\n",
        "sns.set_style(\"darkgrid\")\n",
        "plt.figure(figsize=(10,4))\n",
        "sns.barplot(x=Estrato.index, y=Estrato.values)\n",
        "plt.show()"
      ],
      "metadata": {
        "colab": {
          "base_uri": "https://localhost:8080/",
          "height": 368
        },
        "id": "oRWJu8j9f9Vl",
        "outputId": "22b0d88e-8d0c-43d3-eced-1d7c6a6c24d7"
      },
      "execution_count": 117,
      "outputs": [
        {
          "output_type": "display_data",
          "data": {
            "text/plain": [
              "<Figure size 1000x400 with 1 Axes>"
            ],
            "image/png": "[encoded data removed]"
          },
          "metadata": {}
        }
      ]
    },
    {
      "cell_type": "markdown",
      "source": [
        "#**Modelos de Aprendizaje**\n",
        "\n",
        "Recomendaría el desarrollo e implementación de 2 modelos:\n",
        "\n",
        "- El primero sería para realizar un clustering, donde a partir de los atributos más significativos, se obtenga un conjunto de conglomerados.\n",
        "\n",
        "- El segundo, sería interesante adaptar la tabla a tener el atributo precio como una etiqueta, para implementar un modelo supervisado que permita predecir en qué categoría o categorías pertenecerá la vivienda, para ellos conocer a qué precio pueden estimar su venta.\n"
      ],
      "metadata": {
        "id": "bH-lMdNGegDI"
      }
    },
    {
      "cell_type": "markdown",
      "source": [
        "# **Conclusión**"
      ],
      "metadata": {
        "id": "lxH3YYrqdeHc"
      }
    },
    {
      "cell_type": "markdown",
      "source": [
        "A la empresa B&C, le recomendaría enfocarse en las zonas, sobre todo aquellas vivienda tipo apartamento.\n",
        "\n",
        "- Por otro lado, como promedio se adquieren viviendas con 3 habitaciones y en la zona del Sur de la ciudad.\n",
        "\n",
        "- Si se desean adquirir"
      ],
      "metadata": {
        "id": "0hdFwZ7zdhBJ"
      }
    }
  ],
  "metadata": {
    "colab": {
      "provenance": [],
      "include_colab_link": true
    },
    "kernelspec": {
      "display_name": "Python 3",
      "name": "python3"
    },
    "language_info": {
      "name": "python"
    }
  },
  "nbformat": 4,
  "nbformat_minor": 0
}